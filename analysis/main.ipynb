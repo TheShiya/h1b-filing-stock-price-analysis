{
 "cells": [
  {
   "cell_type": "code",
   "execution_count": null,
   "metadata": {},
   "outputs": [],
   "source": [
    "%load_ext nb_black\n",
    "%load_ext autoreload\n",
    "%autoreload 2\n",
    "%matplotlib inline"
   ]
  },
  {
   "cell_type": "code",
   "execution_count": 279,
   "metadata": {},
   "outputs": [
    {
     "data": {
      "application/javascript": [
       "\n",
       "            setTimeout(function() {\n",
       "                var nbb_cell_id = 279;\n",
       "                var nbb_unformatted_code = \"import pandas as pd\\nimport yfinance as yf\\nimport matplotlib.pyplot as plt\\nimport iexfinance.stocks as stocks\\nimport tools\\nimport os\\nfrom params import TOKEN\\n\\nplt.style.use(\\\"fivethirtyeight\\\")\\nplt.rcParams[\\\"figure.figsize\\\"] = (10, 4)\\nplt.rcParams[\\\"lines.linewidth\\\"] = 2\\n\\nPROJECT_PATH = \\\"\\\\\\\\\\\".join(os.getcwd().split(\\\"\\\\\\\\\\\")[:-1])\\nDATA_PATH = os.path.join(PROJECT_PATH, \\\"data\\\")\";\n",
       "                var nbb_formatted_code = \"import pandas as pd\\nimport yfinance as yf\\nimport matplotlib.pyplot as plt\\nimport iexfinance.stocks as stocks\\nimport tools\\nimport os\\nfrom params import TOKEN\\n\\nplt.style.use(\\\"fivethirtyeight\\\")\\nplt.rcParams[\\\"figure.figsize\\\"] = (10, 4)\\nplt.rcParams[\\\"lines.linewidth\\\"] = 2\\n\\nPROJECT_PATH = \\\"\\\\\\\\\\\".join(os.getcwd().split(\\\"\\\\\\\\\\\")[:-1])\\nDATA_PATH = os.path.join(PROJECT_PATH, \\\"data\\\")\";\n",
       "                var nbb_cells = Jupyter.notebook.get_cells();\n",
       "                for (var i = 0; i < nbb_cells.length; ++i) {\n",
       "                    if (nbb_cells[i].input_prompt_number == nbb_cell_id) {\n",
       "                        if (nbb_cells[i].get_text() == nbb_unformatted_code) {\n",
       "                             nbb_cells[i].set_text(nbb_formatted_code);\n",
       "                        }\n",
       "                        break;\n",
       "                    }\n",
       "                }\n",
       "            }, 500);\n",
       "            "
      ],
      "text/plain": [
       "<IPython.core.display.Javascript object>"
      ]
     },
     "metadata": {},
     "output_type": "display_data"
    }
   ],
   "source": [
    "import pandas as pd\n",
    "import yfinance as yf\n",
    "import matplotlib.pyplot as plt\n",
    "import iexfinance.stocks as stocks\n",
    "import tools\n",
    "import os\n",
    "from params import TOKEN\n",
    "\n",
    "plt.style.use(\"fivethirtyeight\")\n",
    "plt.rcParams[\"figure.figsize\"] = (10, 4)\n",
    "plt.rcParams[\"lines.linewidth\"] = 2\n",
    "\n",
    "PROJECT_PATH = \"\\\\\".join(os.getcwd().split(\"\\\\\")[:-1])\n",
    "DATA_PATH = os.path.join(PROJECT_PATH, \"data\")"
   ]
  },
  {
   "cell_type": "markdown",
   "metadata": {},
   "source": [
    "#### Scrape tickers and get company information\n",
    "Note: you will need an account to get a token for IEX API"
   ]
  },
  {
   "cell_type": "code",
   "execution_count": 54,
   "metadata": {},
   "outputs": [],
   "source": [
    "table = pd.read_html('https://en.wikipedia.org/wiki/List_of_S%26P_500_companies')[0]\n",
    "tickers = table['Symbol'].tolist()"
   ]
  },
  {
   "cell_type": "code",
   "execution_count": 220,
   "metadata": {},
   "outputs": [
    {
     "data": {
      "application/javascript": [
       "\n",
       "            setTimeout(function() {\n",
       "                var nbb_cell_id = 220;\n",
       "                var nbb_unformatted_code = \"if False:\\n    def get_info(tickers):\\n        return stocks.Stock(tickers, token=TOKEN).get_company()\\n\\n    def process_info(info):\\n        info['industry'] = info['industry'].str[:80] + '...'\\n        info['industry'] = info['industry'].replace('...', 'UNKNOWN')\\n        return info\\n\\n    info = pd.concat([get_info(tickers[i:i+100]) for i in range(0, len(tickers), 100)])\\n    info = process_info(info)\\n    info.to_pickle(os.path.join(DATA_PATH, 'sp500_info.p'))\";\n",
       "                var nbb_formatted_code = \"if False:\\n\\n    def get_info(tickers):\\n        return stocks.Stock(tickers, token=TOKEN).get_company()\\n\\n    def process_info(info):\\n        info[\\\"industry\\\"] = info[\\\"industry\\\"].str[:80] + \\\"...\\\"\\n        info[\\\"industry\\\"] = info[\\\"industry\\\"].replace(\\\"...\\\", \\\"UNKNOWN\\\")\\n        return info\\n\\n    info = pd.concat(\\n        [get_info(tickers[i : i + 100]) for i in range(0, len(tickers), 100)]\\n    )\\n    info = process_info(info)\\n    info.to_pickle(os.path.join(DATA_PATH, \\\"sp500_info.p\\\"))\";\n",
       "                var nbb_cells = Jupyter.notebook.get_cells();\n",
       "                for (var i = 0; i < nbb_cells.length; ++i) {\n",
       "                    if (nbb_cells[i].input_prompt_number == nbb_cell_id) {\n",
       "                        if (nbb_cells[i].get_text() == nbb_unformatted_code) {\n",
       "                             nbb_cells[i].set_text(nbb_formatted_code);\n",
       "                        }\n",
       "                        break;\n",
       "                    }\n",
       "                }\n",
       "            }, 500);\n",
       "            "
      ],
      "text/plain": [
       "<IPython.core.display.Javascript object>"
      ]
     },
     "metadata": {},
     "output_type": "display_data"
    }
   ],
   "source": [
    "def get_info(tickers):\n",
    "    return stocks.Stock(tickers, token=TOKEN).get_company()\n",
    "\n",
    "def process_info(info):\n",
    "    info[\"industry\"] = info[\"industry\"].str[:80] + \"...\"\n",
    "    info[\"industry\"] = info[\"industry\"].replace(\"...\", \"UNKNOWN\")\n",
    "    return info\n",
    "\n",
    "info = pd.concat(\n",
    "    [get_info(tickers[i : i + 100]) for i in range(0, len(tickers), 100)]\n",
    ")\n",
    "info = process_info(info)\n",
    "info.to_pickle(os.path.join(DATA_PATH, \"sp500_info.p\"))"
   ]
  },
  {
   "cell_type": "markdown",
   "metadata": {},
   "source": [
    "#### Get returns of Finance companies"
   ]
  },
  {
   "cell_type": "code",
   "execution_count": 235,
   "metadata": {},
   "outputs": [
    {
     "name": "stdout",
     "output_type": "stream",
     "text": [
      "AFL ARE ALL AXP AIG AMT AMP ANTM AON AJG AIZ AVB BAC BK BRK BLK BXP COF CBOE CBRE CNC SCHW CB CI CINF C CFG CME CMA CCI DLR DFS DRE EQIX EQR ESS RE EXR FRT FITB FRC BEN GL GS HIG PEAK HST HBAN INFO ICE IVZ IRM JPM KEY KIM LNC L MTB MKTX MMC MA MET MAA MS MSCI NDAQ NTRS PBCT PNC PFG PGR PLD PRU PSA RJF O REG RF SPGI SBAC SPG SLG STT SIVB SYF TROW TRV TFC UDR USB UNH URI UNM VTR VRSK V VNO WRB WFC WELL WU WY WLTW ZION "
     ]
    },
    {
     "data": {
      "application/javascript": [
       "\n",
       "            setTimeout(function() {\n",
       "                var nbb_cell_id = 235;\n",
       "                var nbb_unformatted_code = \"companies = info[info[\\\"tags\\\"].apply(\\\",\\\".join).str.contains(\\\"Finance\\\")]\\ntickers = companies[\\\"symbol\\\"].tolist()\\n\\nstart = \\\"2012-01-01\\\"\\nend = \\\"2020-12-29\\\"\\ndata = {}\\nfor raw_ticker in tickers:\\n    ticker = raw_ticker.split(\\\".\\\")[0]\\n    ticker_object = yf.Ticker(ticker)\\n    data[ticker] = ticker_object.history(start=start, end=end)[\\\"Close\\\"]\\n    print(ticker, end=\\\" \\\")\";\n",
       "                var nbb_formatted_code = \"companies = info[info[\\\"tags\\\"].apply(\\\",\\\".join).str.contains(\\\"Finance\\\")]\\ntickers = companies[\\\"symbol\\\"].tolist()\\n\\nstart = \\\"2012-01-01\\\"\\nend = \\\"2020-12-29\\\"\\ndata = {}\\nfor raw_ticker in tickers:\\n    ticker = raw_ticker.split(\\\".\\\")[0]\\n    ticker_object = yf.Ticker(ticker)\\n    data[ticker] = ticker_object.history(start=start, end=end)[\\\"Close\\\"]\\n    print(ticker, end=\\\" \\\")\";\n",
       "                var nbb_cells = Jupyter.notebook.get_cells();\n",
       "                for (var i = 0; i < nbb_cells.length; ++i) {\n",
       "                    if (nbb_cells[i].input_prompt_number == nbb_cell_id) {\n",
       "                        if (nbb_cells[i].get_text() == nbb_unformatted_code) {\n",
       "                             nbb_cells[i].set_text(nbb_formatted_code);\n",
       "                        }\n",
       "                        break;\n",
       "                    }\n",
       "                }\n",
       "            }, 500);\n",
       "            "
      ],
      "text/plain": [
       "<IPython.core.display.Javascript object>"
      ]
     },
     "metadata": {},
     "output_type": "display_data"
    }
   ],
   "source": [
    "companies = info[info[\"tags\"].apply(\",\".join).str.contains(\"Finance\")]\n",
    "tickers = companies[\"symbol\"].tolist()\n",
    "\n",
    "start = \"2012-01-01\"\n",
    "end = \"2020-12-29\"\n",
    "data = {}\n",
    "for raw_ticker in tickers:\n",
    "    ticker = raw_ticker.split(\".\")[0]\n",
    "    ticker_object = yf.Ticker(ticker)\n",
    "    data[ticker] = ticker_object.history(start=start, end=end)[\"Close\"]\n",
    "    print(ticker, end=\" \")"
   ]
  },
  {
   "cell_type": "code",
   "execution_count": 288,
   "metadata": {},
   "outputs": [
    {
     "data": {
      "image/png": "[encoded data removed]",
      "text/plain": [
       "<Figure size 720x288 with 1 Axes>"
      ]
     },
     "metadata": {},
     "output_type": "display_data"
    },
    {
     "data": {
      "application/javascript": [
       "\n",
       "            setTimeout(function() {\n",
       "                var nbb_cell_id = 288;\n",
       "                var nbb_unformatted_code = \"prices = pd.DataFrame(data)\\nprices.sample(5, axis=1).plot()\\nreturns = prices.pct_change().dropna()\";\n",
       "                var nbb_formatted_code = \"prices = pd.DataFrame(data)\\nprices.sample(5, axis=1).plot()\\nreturns = prices.pct_change().dropna()\";\n",
       "                var nbb_cells = Jupyter.notebook.get_cells();\n",
       "                for (var i = 0; i < nbb_cells.length; ++i) {\n",
       "                    if (nbb_cells[i].input_prompt_number == nbb_cell_id) {\n",
       "                        if (nbb_cells[i].get_text() == nbb_unformatted_code) {\n",
       "                             nbb_cells[i].set_text(nbb_formatted_code);\n",
       "                        }\n",
       "                        break;\n",
       "                    }\n",
       "                }\n",
       "            }, 500);\n",
       "            "
      ],
      "text/plain": [
       "<IPython.core.display.Javascript object>"
      ]
     },
     "metadata": {},
     "output_type": "display_data"
    }
   ],
   "source": [
    "prices = pd.DataFrame(data)\n",
    "prices.sample(5, axis=1).plot()\n",
    "returns = prices.pct_change().dropna()"
   ]
  },
  {
   "cell_type": "markdown",
   "metadata": {},
   "source": [
    "#### Scrape H1B filings from h1bdata.info"
   ]
  },
  {
   "cell_type": "code",
   "execution_count": 328,
   "metadata": {},
   "outputs": [
    {
     "name": "stdout",
     "output_type": "stream",
     "text": [
      "ANALYTICS.........DATA+SCI.........DATA+ANA.........STATIST.........MACHINE+LEARNING.........JUNIOR+ANALYTICS.........JUNIOR+DATA+SCI.........JUNIOR+DATA+ANA.........JUNIOR+STATIST.........JUNIOR+MACHINE+LEARNING.........SENIOR+ANALYTICS.........SENIOR+DATA+SCI.........SENIOR+DATA+ANA.........SENIOR+STATIST.........SENIOR+MACHINE+LEARNING.........LEAD+ANALYTICS.........LEAD+DATA+SCI.........LEAD+DATA+ANA.........LEAD+STATIST.........LEAD+MACHINE+LEARNING.........STAFF+ANALYTICS.........STAFF+DATA+SCI.........STAFF+DATA+ANA.........STAFF+STATIST.........STAFF+MACHINE+LEARNING.........MANAGER+ANALYTICS.........MANAGER+DATA+SCI.........MANAGER+DATA+ANA.........MANAGER+STATIST.........MANAGER+MACHINE+LEARNING.........CHIEF+ANALYTICS.........CHIEF+DATA+SCI.........CHIEF+DATA+ANA.........CHIEF+STATIST.........CHIEF+MACHINE+LEARNING.........PRINCIPAL+ANALYTICS.........PRINCIPAL+DATA+SCI.........PRINCIPAL+DATA+ANA.........PRINCIPAL+STATIST.........PRINCIPAL+MACHINE+LEARNING........."
     ]
    },
    {
     "data": {
      "text/html": [
       "<div>\n",
       "<style scoped>\n",
       "    .dataframe tbody tr th:only-of-type {\n",
       "        vertical-align: middle;\n",
       "    }\n",
       "\n",
       "    .dataframe tbody tr th {\n",
       "        vertical-align: top;\n",
       "    }\n",
       "\n",
       "    .dataframe thead th {\n",
       "        text-align: right;\n",
       "    }\n",
       "</style>\n",
       "<table border=\"1\" class=\"dataframe\">\n",
       "  <thead>\n",
       "    <tr style=\"text-align: right;\">\n",
       "      <th></th>\n",
       "      <th>EMPLOYER</th>\n",
       "      <th>JOB TITLE</th>\n",
       "      <th>BASE SALARY</th>\n",
       "      <th>LOCATION</th>\n",
       "      <th>SUBMIT DATE</th>\n",
       "      <th>START DATE</th>\n",
       "      <th>CASE STATUS</th>\n",
       "    </tr>\n",
       "  </thead>\n",
       "  <tbody>\n",
       "    <tr>\n",
       "      <th>0</th>\n",
       "      <td>GSD&amp;M IDEA CITY LLC</td>\n",
       "      <td>ANALYTICS MANAGER</td>\n",
       "      <td>73861</td>\n",
       "      <td>AUSTIN, TX</td>\n",
       "      <td>03/09/2012</td>\n",
       "      <td>03/12/2012</td>\n",
       "      <td>WITHDRAWN</td>\n",
       "    </tr>\n",
       "    <tr>\n",
       "      <th>0</th>\n",
       "      <td>MEDIACOM WORLDWIDE INC</td>\n",
       "      <td>ANALYTICS DIRECTOR</td>\n",
       "      <td>145000</td>\n",
       "      <td>NEW YORK, NY</td>\n",
       "      <td>05/22/2013</td>\n",
       "      <td>08/01/2013</td>\n",
       "      <td>WITHDRAWN</td>\n",
       "    </tr>\n",
       "    <tr>\n",
       "      <th>1</th>\n",
       "      <td>UBER TECHNOLOGIES INC</td>\n",
       "      <td>ANALYTICS ENGINEER</td>\n",
       "      <td>80000</td>\n",
       "      <td>SAN FRANCISCO, CA</td>\n",
       "      <td>03/21/2013</td>\n",
       "      <td>09/20/2013</td>\n",
       "      <td>WITHDRAWN</td>\n",
       "    </tr>\n",
       "    <tr>\n",
       "      <th>2</th>\n",
       "      <td>KAYAK SOFTWARE CORPORATION</td>\n",
       "      <td>ANALYTICS ENGINEER</td>\n",
       "      <td>112000</td>\n",
       "      <td>CONCORD, MA</td>\n",
       "      <td>02/27/2013</td>\n",
       "      <td>07/26/2013</td>\n",
       "      <td>WITHDRAWN</td>\n",
       "    </tr>\n",
       "    <tr>\n",
       "      <th>0</th>\n",
       "      <td>KIEWIT CORPORATION</td>\n",
       "      <td>ANALYTICS &amp; REPORTING DEVELOPER SAP BW BPC</td>\n",
       "      <td>93000</td>\n",
       "      <td>OMAHA, NE</td>\n",
       "      <td>10/15/2014</td>\n",
       "      <td>10/22/2014</td>\n",
       "      <td>CERTIFIED</td>\n",
       "    </tr>\n",
       "  </tbody>\n",
       "</table>\n",
       "</div>"
      ],
      "text/plain": [
       "                     EMPLOYER                                   JOB TITLE  \\\n",
       "0         GSD&M IDEA CITY LLC                           ANALYTICS MANAGER   \n",
       "0      MEDIACOM WORLDWIDE INC                          ANALYTICS DIRECTOR   \n",
       "1       UBER TECHNOLOGIES INC                          ANALYTICS ENGINEER   \n",
       "2  KAYAK SOFTWARE CORPORATION                          ANALYTICS ENGINEER   \n",
       "0          KIEWIT CORPORATION  ANALYTICS & REPORTING DEVELOPER SAP BW BPC   \n",
       "\n",
       "  BASE SALARY           LOCATION SUBMIT DATE  START DATE CASE STATUS  \n",
       "0       73861         AUSTIN, TX  03/09/2012  03/12/2012   WITHDRAWN  \n",
       "0      145000       NEW YORK, NY  05/22/2013  08/01/2013   WITHDRAWN  \n",
       "1       80000  SAN FRANCISCO, CA  03/21/2013  09/20/2013   WITHDRAWN  \n",
       "2      112000        CONCORD, MA  02/27/2013  07/26/2013   WITHDRAWN  \n",
       "0       93000          OMAHA, NE  10/15/2014  10/22/2014   CERTIFIED  "
      ]
     },
     "execution_count": 328,
     "metadata": {},
     "output_type": "execute_result"
    },
    {
     "data": {
      "application/javascript": [
       "\n",
       "            setTimeout(function() {\n",
       "                var nbb_cell_id = 328;\n",
       "                var nbb_unformatted_code = \"functions = [\\\"ANALYTICS\\\", \\\"DATA+SCI\\\", \\\"DATA+ANA\\\", \\\"STATIST\\\", \\\"MACHINE+LEARNING\\\"]\\nlevels = [\\\"JUNIOR\\\", \\\"SENIOR\\\", \\\"LEAD\\\", \\\"STAFF\\\", \\\"MANAGER\\\", \\\"CHIEF\\\", \\\"PRINCIPAL\\\"]\\ncombos = [\\\"+\\\".join([l, f]) for l in levels for f in functions]\\nsearch_terms = functions + combos\\n\\ntables = []\\nfor term in search_terms[:]:\\n    print(term, end=\\\"\\\")\\n    for year in range(2012, 2021):\\n        url = \\\"https://h1bdata.info/index.php?em=&job={}&city=&year={}\\\"\\n        table = pd.read_html(url.format(term, year))[0]\\n        tables.append(table)\\n        print(\\\".\\\", end=\\\"\\\")\\n\\nfilings = pd.concat(tables)\\nfilings.to_pickle(os.path.join(DATA_PATH, \\\"h1b_filings.p\\\"))\\nfilings.head()\";\n",
       "                var nbb_formatted_code = \"functions = [\\\"ANALYTICS\\\", \\\"DATA+SCI\\\", \\\"DATA+ANA\\\", \\\"STATIST\\\", \\\"MACHINE+LEARNING\\\"]\\nlevels = [\\\"JUNIOR\\\", \\\"SENIOR\\\", \\\"LEAD\\\", \\\"STAFF\\\", \\\"MANAGER\\\", \\\"CHIEF\\\", \\\"PRINCIPAL\\\"]\\ncombos = [\\\"+\\\".join([l, f]) for l in levels for f in functions]\\nsearch_terms = functions + combos\\n\\ntables = []\\nfor term in search_terms[:]:\\n    print(term, end=\\\"\\\")\\n    for year in range(2012, 2021):\\n        url = \\\"https://h1bdata.info/index.php?em=&job={}&city=&year={}\\\"\\n        table = pd.read_html(url.format(term, year))[0]\\n        tables.append(table)\\n        print(\\\".\\\", end=\\\"\\\")\\n\\nfilings = pd.concat(tables)\\nfilings.to_pickle(os.path.join(DATA_PATH, \\\"h1b_filings.p\\\"))\\nfilings.head()\";\n",
       "                var nbb_cells = Jupyter.notebook.get_cells();\n",
       "                for (var i = 0; i < nbb_cells.length; ++i) {\n",
       "                    if (nbb_cells[i].input_prompt_number == nbb_cell_id) {\n",
       "                        if (nbb_cells[i].get_text() == nbb_unformatted_code) {\n",
       "                             nbb_cells[i].set_text(nbb_formatted_code);\n",
       "                        }\n",
       "                        break;\n",
       "                    }\n",
       "                }\n",
       "            }, 500);\n",
       "            "
      ],
      "text/plain": [
       "<IPython.core.display.Javascript object>"
      ]
     },
     "metadata": {},
     "output_type": "display_data"
    }
   ],
   "source": [
    "functions = [\"ANALYTICS\", \"DATA+SCI\", \"DATA+ANA\", \"STATIST\", \"MACHINE+LEARNING\"]\n",
    "levels = [\"JUNIOR\", \"SENIOR\", \"LEAD\", \"STAFF\", \"MANAGER\", \"CHIEF\", \"PRINCIPAL\"]\n",
    "combos = [\"+\".join([l, f]) for l in levels for f in functions]\n",
    "search_terms = functions + combos\n",
    "\n",
    "tables = []\n",
    "for term in search_terms[:]:\n",
    "    print(term, end=\"\")\n",
    "    for year in range(2012, 2021):\n",
    "        url = \"https://h1bdata.info/index.php?em=&job={}&city=&year={}\"\n",
    "        table = pd.read_html(url.format(term, year))[0]\n",
    "        tables.append(table)\n",
    "        print(\".\", end=\"\")\n",
    "\n",
    "filings = pd.concat(tables)\n",
    "filings.to_pickle(os.path.join(DATA_PATH, \"h1b_filings.p\"))\n",
    "filings = filings.dropna()\n",
    "filings = filings[filings[\"CASE STATUS\"] == \"CERTIFIED\"]\n",
    "filings.head()"
   ]
  },
  {
   "cell_type": "markdown",
   "metadata": {},
   "source": [
    "#### Match company names"
   ]
  },
  {
   "cell_type": "code",
   "execution_count": 329,
   "metadata": {},
   "outputs": [
    {
     "data": {
      "application/javascript": [
       "\n",
       "            setTimeout(function() {\n",
       "                var nbb_cell_id = 329;\n",
       "                var nbb_unformatted_code = \"from tools.string import standardize_name, StringComparer\";\n",
       "                var nbb_formatted_code = \"from tools.string import standardize_name, StringComparer\";\n",
       "                var nbb_cells = Jupyter.notebook.get_cells();\n",
       "                for (var i = 0; i < nbb_cells.length; ++i) {\n",
       "                    if (nbb_cells[i].input_prompt_number == nbb_cell_id) {\n",
       "                        if (nbb_cells[i].get_text() == nbb_unformatted_code) {\n",
       "                             nbb_cells[i].set_text(nbb_formatted_code);\n",
       "                        }\n",
       "                        break;\n",
       "                    }\n",
       "                }\n",
       "            }, 500);\n",
       "            "
      ],
      "text/plain": [
       "<IPython.core.display.Javascript object>"
      ]
     },
     "metadata": {},
     "output_type": "display_data"
    }
   ],
   "source": []
  },
  {
   "cell_type": "code",
   "execution_count": 344,
   "metadata": {},
   "outputs": [
    {
     "name": "stdout",
     "output_type": "stream",
     "text": [
      "['aflac', 'alexandria real estate equities', 'allstate corp', 'american express', 'american international group']\n",
      "['gsd m idea city', 'mediacom worldwide', 'uber technologies', 'kayak software corporation', 'kiewit corporation']\n",
      "StringComparer 1% completed - 0.00s\n",
      "StringComparer 10% completed - 0.03s\n",
      "StringComparer 20% completed - 0.07s\n",
      "StringComparer 30% completed - 0.11s\n",
      "StringComparer 40% completed - 0.16s\n",
      "StringComparer 50% completed - 0.20s\n",
      "StringComparer 60% completed - 0.27s\n",
      "StringComparer 70% completed - 0.32s\n",
      "StringComparer 80% completed - 0.38s\n",
      "StringComparer 90% completed - 0.44s\n",
      "StringComparer 100% completed - 0.50s\n"
     ]
    },
    {
     "data": {
      "application/javascript": [
       "\n",
       "            setTimeout(function() {\n",
       "                var nbb_cell_id = 344;\n",
       "                var nbb_unformatted_code = \"from tools.string import standardize_name, StringComparer\\n\\niex_names = companies[\\\"companyName\\\"].apply(standardize_name).tolist()\\nh1b_names = filings[\\\"EMPLOYER\\\"].apply(standardize_name).tolist()\\nprint(iex_names[:5])\\nprint(h1b_names[:5])\\n\\nsc = StringComparer(h1b_names, iex_names)\\nmatches = sc.get_matches()\";\n",
       "                var nbb_formatted_code = \"from tools.string import standardize_name, StringComparer\\n\\niex_names = companies[\\\"companyName\\\"].apply(standardize_name).tolist()\\nh1b_names = filings[\\\"EMPLOYER\\\"].apply(standardize_name).tolist()\\nprint(iex_names[:5])\\nprint(h1b_names[:5])\\n\\nsc = StringComparer(h1b_names, iex_names)\\nmatches = sc.get_matches()\";\n",
       "                var nbb_cells = Jupyter.notebook.get_cells();\n",
       "                for (var i = 0; i < nbb_cells.length; ++i) {\n",
       "                    if (nbb_cells[i].input_prompt_number == nbb_cell_id) {\n",
       "                        if (nbb_cells[i].get_text() == nbb_unformatted_code) {\n",
       "                             nbb_cells[i].set_text(nbb_formatted_code);\n",
       "                        }\n",
       "                        break;\n",
       "                    }\n",
       "                }\n",
       "            }, 500);\n",
       "            "
      ],
      "text/plain": [
       "<IPython.core.display.Javascript object>"
      ]
     },
     "metadata": {},
     "output_type": "display_data"
    }
   ],
   "source": [
    "from tools.string import standardize_name, StringComparer\n",
    "\n",
    "iex_names = companies[\"companyName\"].apply(standardize_name).tolist()\n",
    "h1b_names = filings[\"EMPLOYER\"].apply(standardize_name).tolist()\n",
    "print(iex_names[:5])\n",
    "print(h1b_names[:5])\n",
    "\n",
    "sc = StringComparer(h1b_names, iex_names)\n",
    "matches = sc.get_matches()"
   ]
  },
  {
   "cell_type": "code",
   "execution_count": 371,
   "metadata": {},
   "outputs": [
    {
     "data": {
      "application/javascript": [
       "\n",
       "            setTimeout(function() {\n",
       "                var nbb_cell_id = 371;\n",
       "                var nbb_unformatted_code = \"h1b_raw = filings[\\\"EMPLOYER\\\"].drop_duplicates()\\nh1b_raw2clean = dict(zip(h1b_raw, h1b_raw.apply(standardize_name)))\\niex_raw = info[\\\"companyName\\\"].drop_duplicates()\\niex_raw2clean = dict(zip(iex_raw, iex_raw.apply(standardize_name)))\\nh1b2iex = matches.set_index(\\\"s\\\")[\\\"t\\\"].to_dict()\\niex2ticker = info.set_index(\\\"companyName\\\")[\\\"symbol\\\"].to_dict()\\n\\n_ = filings[\\\"EMPLOYER\\\"]\\n_ = _.map(h1b_raw2clean)\\n_ = _.map(h1b2iex)\\n_ = _.map(iex_raw2clean)\\n_ = _.map(iex2ticker)\\nfilings[\\\"TICKER\\\"] = _\";\n",
       "                var nbb_formatted_code = \"h1b_raw = filings[\\\"EMPLOYER\\\"].drop_duplicates()\\nh1b_raw2clean = dict(zip(h1b_raw, h1b_raw.apply(standardize_name)))\\niex_raw = info[\\\"companyName\\\"].drop_duplicates()\\niex_raw2clean = dict(zip(iex_raw, iex_raw.apply(standardize_name)))\\nh1b2iex = matches.set_index(\\\"s\\\")[\\\"t\\\"].to_dict()\\niex2ticker = info.set_index(\\\"companyName\\\")[\\\"symbol\\\"].to_dict()\\n\\n_ = filings[\\\"EMPLOYER\\\"]\\n_ = _.map(h1b_raw2clean)\\n_ = _.map(h1b2iex)\\n_ = _.map(iex_raw2clean)\\n_ = _.map(iex2ticker)\\nfilings[\\\"TICKER\\\"] = _\";\n",
       "                var nbb_cells = Jupyter.notebook.get_cells();\n",
       "                for (var i = 0; i < nbb_cells.length; ++i) {\n",
       "                    if (nbb_cells[i].input_prompt_number == nbb_cell_id) {\n",
       "                        if (nbb_cells[i].get_text() == nbb_unformatted_code) {\n",
       "                             nbb_cells[i].set_text(nbb_formatted_code);\n",
       "                        }\n",
       "                        break;\n",
       "                    }\n",
       "                }\n",
       "            }, 500);\n",
       "            "
      ],
      "text/plain": [
       "<IPython.core.display.Javascript object>"
      ]
     },
     "metadata": {},
     "output_type": "display_data"
    }
   ],
   "source": [
    "h1b_raw = filings[\"EMPLOYER\"].drop_duplicates()\n",
    "h1b_raw2clean = dict(zip(h1b_raw, h1b_raw.apply(standardize_name)))\n",
    "iex_raw = info[\"companyName\"].drop_duplicates()\n",
    "iex_raw2clean = dict(zip(iex_raw, iex_raw.apply(standardize_name)))\n",
    "h1b2iex = matches.set_index(\"s\")[\"t\"].to_dict()\n",
    "iex2ticker = info.set_index(\"companyName\")[\"symbol\"].to_dict()\n",
    "\n",
    "_ = filings[\"EMPLOYER\"]\n",
    "_ = _.map(h1b_raw2clean)\n",
    "_ = _.map(h1b2iex)\n",
    "_ = _.map(iex_raw2clean)\n",
    "_ = _.map(iex2ticker)\n",
    "filings[\"TICKER\"] = _"
   ]
  },
  {
   "cell_type": "code",
   "execution_count": 374,
   "metadata": {},
   "outputs": [
    {
     "data": {
      "text/plain": [
       "2                  jpmorgan chase\n",
       "4                  jpmorgan chase\n",
       "5                  jpmorgan chase\n",
       "6                  jpmorgan chase\n",
       "7                  jpmorgan chase\n",
       "                 ...             \n",
       "22    discover financial services\n",
       "30                         anthem\n",
       "4     discover financial services\n",
       "52          lincoln national corp\n",
       "0     discover financial services\n",
       "Name: EMPLOYER, Length: 616, dtype: object"
      ]
     },
     "execution_count": 374,
     "metadata": {},
     "output_type": "execute_result"
    },
    {
     "data": {
      "application/javascript": [
       "\n",
       "            setTimeout(function() {\n",
       "                var nbb_cell_id = 374;\n",
       "                var nbb_unformatted_code = \"_ = filings[\\\"EMPLOYER\\\"]\\n_ = _.map(h1b_raw2clean)\\n_ = _.map(h1b2iex)\\n#_ = _.map(iex_raw2clean)\\n_.dropna()\";\n",
       "                var nbb_formatted_code = \"_ = filings[\\\"EMPLOYER\\\"]\\n_ = _.map(h1b_raw2clean)\\n_ = _.map(h1b2iex)\\n# _ = _.map(iex_raw2clean)\\n_.dropna()\";\n",
       "                var nbb_cells = Jupyter.notebook.get_cells();\n",
       "                for (var i = 0; i < nbb_cells.length; ++i) {\n",
       "                    if (nbb_cells[i].input_prompt_number == nbb_cell_id) {\n",
       "                        if (nbb_cells[i].get_text() == nbb_unformatted_code) {\n",
       "                             nbb_cells[i].set_text(nbb_formatted_code);\n",
       "                        }\n",
       "                        break;\n",
       "                    }\n",
       "                }\n",
       "            }, 500);\n",
       "            "
      ],
      "text/plain": [
       "<IPython.core.display.Javascript object>"
      ]
     },
     "metadata": {},
     "output_type": "display_data"
    }
   ],
   "source": [
    "_ = filings[\"EMPLOYER\"]\n",
    "_ = _.map(h1b_raw2clean)\n",
    "_ = _.map(h1b2iex)\n",
    "# _ = _.map(iex_raw2clean)\n",
    "_.dropna()"
   ]
  }
 ],
 "metadata": {
  "kernelspec": {
   "display_name": "Python 3",
   "language": "python",
   "name": "python3"
  },
  "language_info": {
   "codemirror_mode": {
    "name": "ipython",
    "version": 3
   },
   "file_extension": ".py",
   "mimetype": "text/x-python",
   "name": "python",
   "nbconvert_exporter": "python",
   "pygments_lexer": "ipython3",
   "version": "3.9.1"
  }
 },
 "nbformat": 4,
 "nbformat_minor": 4
}
